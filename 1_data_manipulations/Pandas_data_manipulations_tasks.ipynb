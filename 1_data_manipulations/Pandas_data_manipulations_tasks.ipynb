{
  "cells": [
    {
      "cell_type": "markdown",
      "metadata": {
        "id": "view-in-github",
        "colab_type": "text"
      },
      "source": [
        "<a href=\"https://colab.research.google.com/github/McReader/ml-intro/blob/1_data_manipulations/1_data_manipulations/Pandas_data_manipulations_tasks.ipynb\" target=\"_parent\"><img src=\"https://colab.research.google.com/assets/colab-badge.svg\" alt=\"Open In Colab\"/></a>"
      ]
    },
    {
      "cell_type": "markdown",
      "id": "6d6010da",
      "metadata": {
        "id": "6d6010da"
      },
      "source": [
        "# How to complete this assignment\n",
        "First, download [this Kaggle dataset](https://www.kaggle.com/hugomathien/soccer) and extract *sqlite* database. You may need to register at https://www.kaggle.com/ beforehand. Then complete 15 graded tasks below, the score is given in brackets. Finally submit the resulting `.ipynb` file to rs-app Auto-test.\n",
        "\n",
        "- Do not delete or rename the variables given before the inscription `#your code here`, they are needed for the correct verification.\n",
        "- Do not change the code in the last Notebook cell, it is required for the server check.\n",
        "- Your Notebook must run completely without errors to be graded! Please check everything before submission by going *Cell -> Run All*"
      ]
    },
    {
      "cell_type": "markdown",
      "id": "0dbd5f9a",
      "metadata": {
        "id": "0dbd5f9a"
      },
      "source": [
        "## Some important notes\n",
        "- If you need to **calculate the number of \"something\"** that means we expect you to assign an Integer to the given variable\n",
        "- If you need to **make a list of \"something\"** we expect you to assign a Python list with appropriate values to the given variable\n",
        "- If you need to find a **specifiс player, day of the week, team, etc.** we expect you to assign a String with the full name of the entity to the given variable (`player_name`, day of week full name, `team_name`, etc.)"
      ]
    },
    {
      "cell_type": "code",
      "execution_count": 244,
      "id": "f52b1bac",
      "metadata": {
        "id": "f52b1bac"
      },
      "outputs": [],
      "source": [
        "import sqlite3\n",
        "import pandas as pd\n",
        "import os\n",
        "import numpy as np\n",
        "\n",
        "pd.set_option('display.max_column', None)"
      ]
    },
    {
      "cell_type": "code",
      "execution_count": 4,
      "id": "8ebe6afd",
      "metadata": {
        "id": "8ebe6afd"
      },
      "outputs": [],
      "source": [
        "# Leave that code unchanged, it is required for the server check!\n",
        "db = sqlite3.connect(os.environ.get(\"DB_PATH\") or 'database.sqlite')"
      ]
    },
    {
      "cell_type": "code",
      "execution_count": 156,
      "id": "9860d0d0",
      "metadata": {
        "id": "9860d0d0"
      },
      "outputs": [],
      "source": [
        "# You may load the data from SQL table directly to the Pandas dataframe as\n",
        "player_data = pd.read_sql(\"SELECT * FROM Player;\", db)\n",
        "league_data = pd.read_sql(\"SELECT * FROM League;\", db)\n",
        "match_data = pd.read_sql(\"SELECT * FROM Match;\", db)\n",
        "player_atributes_data = pd.read_sql(\"SELECT * FROM Player_Attributes;\", db)"
      ]
    },
    {
      "cell_type": "code",
      "execution_count": 16,
      "id": "7e69a7af",
      "metadata": {
        "colab": {
          "base_uri": "https://localhost:8080/",
          "height": 206
        },
        "id": "7e69a7af",
        "outputId": "604c0c59-bbf1-4f09-af00-449e1fd58955"
      },
      "outputs": [
        {
          "output_type": "execute_result",
          "data": {
            "text/html": [
              "\n",
              "  <div id=\"df-4b0a7a8f-121b-4eb9-90c8-1d740a552055\">\n",
              "    <div class=\"colab-df-container\">\n",
              "      <div>\n",
              "<style scoped>\n",
              "    .dataframe tbody tr th:only-of-type {\n",
              "        vertical-align: middle;\n",
              "    }\n",
              "\n",
              "    .dataframe tbody tr th {\n",
              "        vertical-align: top;\n",
              "    }\n",
              "\n",
              "    .dataframe thead th {\n",
              "        text-align: right;\n",
              "    }\n",
              "</style>\n",
              "<table border=\"1\" class=\"dataframe\">\n",
              "  <thead>\n",
              "    <tr style=\"text-align: right;\">\n",
              "      <th></th>\n",
              "      <th>id</th>\n",
              "      <th>player_api_id</th>\n",
              "      <th>player_name</th>\n",
              "      <th>player_fifa_api_id</th>\n",
              "      <th>birthday</th>\n",
              "      <th>height</th>\n",
              "      <th>weight</th>\n",
              "    </tr>\n",
              "  </thead>\n",
              "  <tbody>\n",
              "    <tr>\n",
              "      <th>0</th>\n",
              "      <td>1</td>\n",
              "      <td>505942</td>\n",
              "      <td>Aaron Appindangoye</td>\n",
              "      <td>218353</td>\n",
              "      <td>1992-02-29 00:00:00</td>\n",
              "      <td>182.88</td>\n",
              "      <td>187</td>\n",
              "    </tr>\n",
              "    <tr>\n",
              "      <th>1</th>\n",
              "      <td>2</td>\n",
              "      <td>155782</td>\n",
              "      <td>Aaron Cresswell</td>\n",
              "      <td>189615</td>\n",
              "      <td>1989-12-15 00:00:00</td>\n",
              "      <td>170.18</td>\n",
              "      <td>146</td>\n",
              "    </tr>\n",
              "    <tr>\n",
              "      <th>2</th>\n",
              "      <td>3</td>\n",
              "      <td>162549</td>\n",
              "      <td>Aaron Doran</td>\n",
              "      <td>186170</td>\n",
              "      <td>1991-05-13 00:00:00</td>\n",
              "      <td>170.18</td>\n",
              "      <td>163</td>\n",
              "    </tr>\n",
              "    <tr>\n",
              "      <th>3</th>\n",
              "      <td>4</td>\n",
              "      <td>30572</td>\n",
              "      <td>Aaron Galindo</td>\n",
              "      <td>140161</td>\n",
              "      <td>1982-05-08 00:00:00</td>\n",
              "      <td>182.88</td>\n",
              "      <td>198</td>\n",
              "    </tr>\n",
              "    <tr>\n",
              "      <th>4</th>\n",
              "      <td>5</td>\n",
              "      <td>23780</td>\n",
              "      <td>Aaron Hughes</td>\n",
              "      <td>17725</td>\n",
              "      <td>1979-11-08 00:00:00</td>\n",
              "      <td>182.88</td>\n",
              "      <td>154</td>\n",
              "    </tr>\n",
              "  </tbody>\n",
              "</table>\n",
              "</div>\n",
              "      <button class=\"colab-df-convert\" onclick=\"convertToInteractive('df-4b0a7a8f-121b-4eb9-90c8-1d740a552055')\"\n",
              "              title=\"Convert this dataframe to an interactive table.\"\n",
              "              style=\"display:none;\">\n",
              "        \n",
              "  <svg xmlns=\"http://www.w3.org/2000/svg\" height=\"24px\"viewBox=\"0 0 24 24\"\n",
              "       width=\"24px\">\n",
              "    <path d=\"M0 0h24v24H0V0z\" fill=\"none\"/>\n",
              "    <path d=\"M18.56 5.44l.94 2.06.94-2.06 2.06-.94-2.06-.94-.94-2.06-.94 2.06-2.06.94zm-11 1L8.5 8.5l.94-2.06 2.06-.94-2.06-.94L8.5 2.5l-.94 2.06-2.06.94zm10 10l.94 2.06.94-2.06 2.06-.94-2.06-.94-.94-2.06-.94 2.06-2.06.94z\"/><path d=\"M17.41 7.96l-1.37-1.37c-.4-.4-.92-.59-1.43-.59-.52 0-1.04.2-1.43.59L10.3 9.45l-7.72 7.72c-.78.78-.78 2.05 0 2.83L4 21.41c.39.39.9.59 1.41.59.51 0 1.02-.2 1.41-.59l7.78-7.78 2.81-2.81c.8-.78.8-2.07 0-2.86zM5.41 20L4 18.59l7.72-7.72 1.47 1.35L5.41 20z\"/>\n",
              "  </svg>\n",
              "      </button>\n",
              "      \n",
              "  <style>\n",
              "    .colab-df-container {\n",
              "      display:flex;\n",
              "      flex-wrap:wrap;\n",
              "      gap: 12px;\n",
              "    }\n",
              "\n",
              "    .colab-df-convert {\n",
              "      background-color: #E8F0FE;\n",
              "      border: none;\n",
              "      border-radius: 50%;\n",
              "      cursor: pointer;\n",
              "      display: none;\n",
              "      fill: #1967D2;\n",
              "      height: 32px;\n",
              "      padding: 0 0 0 0;\n",
              "      width: 32px;\n",
              "    }\n",
              "\n",
              "    .colab-df-convert:hover {\n",
              "      background-color: #E2EBFA;\n",
              "      box-shadow: 0px 1px 2px rgba(60, 64, 67, 0.3), 0px 1px 3px 1px rgba(60, 64, 67, 0.15);\n",
              "      fill: #174EA6;\n",
              "    }\n",
              "\n",
              "    [theme=dark] .colab-df-convert {\n",
              "      background-color: #3B4455;\n",
              "      fill: #D2E3FC;\n",
              "    }\n",
              "\n",
              "    [theme=dark] .colab-df-convert:hover {\n",
              "      background-color: #434B5C;\n",
              "      box-shadow: 0px 1px 3px 1px rgba(0, 0, 0, 0.15);\n",
              "      filter: drop-shadow(0px 1px 2px rgba(0, 0, 0, 0.3));\n",
              "      fill: #FFFFFF;\n",
              "    }\n",
              "  </style>\n",
              "\n",
              "      <script>\n",
              "        const buttonEl =\n",
              "          document.querySelector('#df-4b0a7a8f-121b-4eb9-90c8-1d740a552055 button.colab-df-convert');\n",
              "        buttonEl.style.display =\n",
              "          google.colab.kernel.accessAllowed ? 'block' : 'none';\n",
              "\n",
              "        async function convertToInteractive(key) {\n",
              "          const element = document.querySelector('#df-4b0a7a8f-121b-4eb9-90c8-1d740a552055');\n",
              "          const dataTable =\n",
              "            await google.colab.kernel.invokeFunction('convertToInteractive',\n",
              "                                                     [key], {});\n",
              "          if (!dataTable) return;\n",
              "\n",
              "          const docLinkHtml = 'Like what you see? Visit the ' +\n",
              "            '<a target=\"_blank\" href=https://colab.research.google.com/notebooks/data_table.ipynb>data table notebook</a>'\n",
              "            + ' to learn more about interactive tables.';\n",
              "          element.innerHTML = '';\n",
              "          dataTable['output_type'] = 'display_data';\n",
              "          await google.colab.output.renderOutput(dataTable, element);\n",
              "          const docLink = document.createElement('div');\n",
              "          docLink.innerHTML = docLinkHtml;\n",
              "          element.appendChild(docLink);\n",
              "        }\n",
              "      </script>\n",
              "    </div>\n",
              "  </div>\n",
              "  "
            ],
            "text/plain": [
              "   id  player_api_id         player_name  player_fifa_api_id  \\\n",
              "0   1         505942  Aaron Appindangoye              218353   \n",
              "1   2         155782     Aaron Cresswell              189615   \n",
              "2   3         162549         Aaron Doran              186170   \n",
              "3   4          30572       Aaron Galindo              140161   \n",
              "4   5          23780        Aaron Hughes               17725   \n",
              "\n",
              "              birthday  height  weight  \n",
              "0  1992-02-29 00:00:00  182.88     187  \n",
              "1  1989-12-15 00:00:00  170.18     146  \n",
              "2  1991-05-13 00:00:00  170.18     163  \n",
              "3  1982-05-08 00:00:00  182.88     198  \n",
              "4  1979-11-08 00:00:00  182.88     154  "
            ]
          },
          "metadata": {},
          "execution_count": 16
        }
      ],
      "source": [
        "player_data.head()"
      ]
    },
    {
      "cell_type": "markdown",
      "id": "f8b23f3a",
      "metadata": {
        "id": "f8b23f3a"
      },
      "source": [
        "**Task 1 (0.25 point).** Calculate the number of players with a height between 180 and 190 inclusive"
      ]
    },
    {
      "cell_type": "code",
      "execution_count": 13,
      "id": "7cd6f780",
      "metadata": {
        "id": "7cd6f780"
      },
      "outputs": [],
      "source": [
        "players_180_190 = player_data[player_data['height'].between(180, 190, inclusive=\"both\")].shape[0]"
      ]
    },
    {
      "cell_type": "code",
      "execution_count": 14,
      "id": "9d058065",
      "metadata": {
        "id": "9d058065"
      },
      "outputs": [],
      "source": [
        "assert(isinstance(players_180_190, int))"
      ]
    },
    {
      "cell_type": "markdown",
      "id": "5a39f3bc",
      "metadata": {
        "id": "5a39f3bc"
      },
      "source": [
        "**Task 2 (0.25 point).** Calculate the number of players born in 1980. <br>\n",
        "**Hint:** you may want to cast your 'birthday' column to DateTime type by [pandas.to_datetime](https://pandas.pydata.org/docs/reference/api/pandas.to_datetime.html)"
      ]
    },
    {
      "cell_type": "code",
      "execution_count": 25,
      "id": "ff21f7a2",
      "metadata": {
        "id": "ff21f7a2"
      },
      "outputs": [],
      "source": [
        "from datetime import datetime\n",
        "\n",
        "player_data['birthday'] = pd.to_datetime(player_data['birthday'])\n",
        "players_1980 = player_data[player_data['birthday'].dt.year == 1980].shape[0]"
      ]
    },
    {
      "cell_type": "code",
      "execution_count": 26,
      "id": "e53cc066",
      "metadata": {
        "id": "e53cc066"
      },
      "outputs": [],
      "source": [
        "assert(isinstance(players_1980, int))"
      ]
    },
    {
      "cell_type": "markdown",
      "id": "70d1dea0",
      "metadata": {
        "id": "70d1dea0"
      },
      "source": [
        "**Task 3 (0.25 point).** Make a list of the top 10 players with the highest weight sorted in descending order. If there are several players with the same weight put them in the lexicographic order by name."
      ]
    },
    {
      "cell_type": "code",
      "execution_count": 38,
      "id": "b0dbdaf5",
      "metadata": {
        "id": "b0dbdaf5"
      },
      "outputs": [],
      "source": [
        "highest_players = player_data.sort_values([\"weight\", \"player_name\"], ascending=(False, True)).head(10)['player_name'].to_list()"
      ]
    },
    {
      "cell_type": "code",
      "execution_count": 40,
      "id": "40dabe0d",
      "metadata": {
        "id": "40dabe0d"
      },
      "outputs": [],
      "source": [
        "assert(len(highest_players) == 10)\n",
        "assert(isinstance(highest_players, list))\n",
        "for i in range(10):\n",
        "    assert(isinstance(highest_players[i], str))"
      ]
    },
    {
      "cell_type": "markdown",
      "id": "ff30607f",
      "metadata": {
        "id": "ff30607f"
      },
      "source": [
        "**Task 4 (0.5 point).** Make a list of tuples containing years along with the number of players born in that year from 1980 up to 1990. <br>\n",
        "**Structure example**: [(1980, 123), (1981, 140) ..., (1990, 83)] -> There were born 123 players in 1980, there were born 140 players in 1981 and etc."
      ]
    },
    {
      "cell_type": "code",
      "execution_count": 61,
      "id": "9b609f1c",
      "metadata": {
        "id": "9b609f1c"
      },
      "outputs": [],
      "source": [
        "players_from_1980_to_1990 = player_data[player_data['birthday'].dt.year.between(1980, 1990, inclusive=\"both\")]\n",
        "players_from_1980_to_1990_count = players_from_1980_to_1990.groupby(player_data['birthday'].dt.year).size()\n",
        "years_born_players = list(players_from_1980_to_1990_count.items())"
      ]
    },
    {
      "cell_type": "code",
      "execution_count": 64,
      "id": "64cbf754",
      "metadata": {
        "id": "64cbf754"
      },
      "outputs": [],
      "source": [
        "assert(len(years_born_players) == 11)\n",
        "assert(isinstance(years_born_players, list))\n",
        "for i in range(10):\n",
        "    assert(isinstance(years_born_players[i], tuple))\n",
        "    assert(isinstance(years_born_players[i][0], int))\n",
        "    assert(isinstance(years_born_players[i][1], int))"
      ]
    },
    {
      "cell_type": "markdown",
      "id": "33cbd931",
      "metadata": {
        "id": "33cbd931"
      },
      "source": [
        "**Task 5 (0.5 point).** Calculate the mean and the standard deviation of the players' **height** with the name **Adriano**. <br>\n",
        "**Note:** Name is represented by the first part of `player_name`."
      ]
    },
    {
      "cell_type": "code",
      "execution_count": 298,
      "id": "614fac31",
      "metadata": {
        "id": "614fac31"
      },
      "outputs": [],
      "source": [
        "adriano = player_data[player_data['player_name'].str.startswith('Adriano')]\n",
        "adriano_height = adriano['height']\n",
        "adriano_mean = adriano_height.mean()\n",
        "adriano_std = adriano_height.std()"
      ]
    },
    {
      "cell_type": "code",
      "execution_count": 293,
      "id": "f508c49f",
      "metadata": {
        "id": "f508c49f"
      },
      "outputs": [],
      "source": [
        "assert(isinstance(adriano_mean, float))\n",
        "assert(isinstance(adriano_std, float))"
      ]
    },
    {
      "cell_type": "markdown",
      "id": "8a361dfd",
      "metadata": {
        "id": "8a361dfd"
      },
      "source": [
        "**Task 6 (0.75 point).** How many players were born on each day of the week? Find the day of the week with the minimum number of players born."
      ]
    },
    {
      "cell_type": "code",
      "execution_count": 115,
      "id": "c140be4f",
      "metadata": {
        "id": "c140be4f"
      },
      "outputs": [],
      "source": [
        "dow_with_min_players_born = player_data['birthday'].dt.day_name().value_counts().idxmin()"
      ]
    },
    {
      "cell_type": "code",
      "execution_count": 116,
      "id": "fc041623",
      "metadata": {
        "id": "fc041623"
      },
      "outputs": [],
      "source": [
        "assert(isinstance(dow_with_min_players_born, str))"
      ]
    },
    {
      "cell_type": "markdown",
      "id": "dc7428be",
      "metadata": {
        "id": "dc7428be"
      },
      "source": [
        "**Task 7 (0.75 point).** Find a league with the most matches in total. If there are several leagues with the same amount of matches, take the first in the lexical order."
      ]
    },
    {
      "cell_type": "code",
      "execution_count": 150,
      "id": "ff3113ac",
      "metadata": {
        "id": "ff3113ac"
      },
      "outputs": [],
      "source": [
        "matches_in_league = match_data.groupby('league_id').size().rename(\"matches_count\")\n",
        "leagues_with_matches_count = pd.merge(league_data, matches_in_league, left_on=\"id\", right_on=\"league_id\")\n",
        "league_most_matches = leagues_with_matches_count.sort_values(by=[\"matches_count\", \"name\"], ascending=(False, True)).head(1)['name'].iloc[0]"
      ]
    },
    {
      "cell_type": "code",
      "execution_count": 151,
      "id": "390a265b",
      "metadata": {
        "id": "390a265b"
      },
      "outputs": [],
      "source": [
        "assert(isinstance(league_most_matches, str))"
      ]
    },
    {
      "cell_type": "markdown",
      "id": "97199b7d",
      "metadata": {
        "id": "97199b7d"
      },
      "source": [
        "**Task 8 (1.25 point).** Find a player who participated in the largest number of matches during the whole match history. Assign a `player_name` to the given variable"
      ]
    },
    {
      "cell_type": "code",
      "execution_count": 260,
      "id": "ec31bc69",
      "metadata": {
        "id": "ec31bc69"
      },
      "outputs": [],
      "source": [
        "# max_matches_player = # Your code here\n",
        "columns = 'home_player_1\thome_player_2\thome_player_3\thome_player_4\thome_player_5\thome_player_6\thome_player_7\thome_player_8\thome_player_9\thome_player_10\thome_player_11\taway_player_1\taway_player_2\taway_player_3\taway_player_4\taway_player_5\taway_player_6\taway_player_7\taway_player_8\taway_player_9\taway_player_10\taway_player_11'.split('\\t')\n",
        "\n",
        "def get_series(column):\n",
        "  return match_data[column]\n",
        "\n",
        "series = list(map(get_series, columns))\n",
        "\n",
        "players_match_counts = pd.concat(series).value_counts()\n",
        "top_player_api_id = int(players_match_counts.first_valid_index())\n",
        "\n",
        "max_matches_player = player_data[player_data['player_api_id'] == top_player_api_id]['player_name'].iloc[0]"
      ]
    },
    {
      "cell_type": "code",
      "execution_count": 204,
      "id": "00ec2e89",
      "metadata": {
        "id": "00ec2e89"
      },
      "outputs": [],
      "source": [
        "assert(isinstance(max_matches_player, str))"
      ]
    },
    {
      "cell_type": "markdown",
      "id": "dbc68bfe",
      "metadata": {
        "id": "dbc68bfe"
      },
      "source": [
        "**Task 9 (1.5 point).** List top-5 tuples of most correlated **player's characteristics** in the descending order of the absolute [Pearson's coefficient](https://en.wikipedia.org/wiki/Pearson_correlation_coefficient) value.\n",
        "\n",
        "**Note 1:** Players characteristics are all the columns in `Player_Attributes` table except `[id, player_fifa_api_id, player_api_id, date, preferred_foot, attacking_work_rate, defensive_work_rate]`). <br>\n",
        "**Note 2:** Exclude duplicated pairs from the list. E.g. ('gk_handling', 'gk_reflexes') and ('gk_reflexes', 'gk_handling') are duplicates, leave just one of them in the resulting list.\n",
        "\n",
        "**Hint:** You may use [dataframe.corr()](https://pandas.pydata.org/docs/reference/api/pandas.DataFrame.corr.html) for calculating pairwise Pearson correlation."
      ]
    },
    {
      "cell_type": "code",
      "execution_count": 263,
      "id": "47c1412e",
      "metadata": {
        "id": "47c1412e"
      },
      "outputs": [],
      "source": [
        "player_characteristics = player_atributes_data.drop(['id', 'player_fifa_api_id', 'player_api_id', 'date', 'preferred_foot', 'attacking_work_rate', 'defensive_work_rate'], axis=1)\n",
        "\n",
        "correlation = player_characteristics.corr(method='pearson')\n",
        "# mask all the elements under the main diagonal by NaN values to eliminate duplicates\n",
        "correlation_without_duplicates = correlation.mask(np.tril(np.ones(correlation.shape)).astype(bool))\n",
        "top_correlated_features = correlation_without_duplicates.unstack().sort_values(ascending=False).head().index.to_list()"
      ]
    },
    {
      "cell_type": "code",
      "execution_count": 258,
      "id": "67acd6bf",
      "metadata": {
        "id": "67acd6bf"
      },
      "outputs": [],
      "source": [
        "assert(len(top_correlated_features) == 5)\n",
        "assert(isinstance(top_correlated_features, list))\n",
        "for i in range(5):\n",
        "    assert(isinstance(top_correlated_features[i], tuple))\n",
        "    assert(isinstance(top_correlated_features[i][0], str))\n",
        "    assert(isinstance(top_correlated_features[i][1], str))"
      ]
    },
    {
      "cell_type": "markdown",
      "id": "7d3d8fd3",
      "metadata": {
        "id": "7d3d8fd3"
      },
      "source": [
        "**Task 10 (2 points).** Find top-5 most similar players to **Neymar** whose names are given. The similarity is measured as [Euclidean distance](https://en.wikipedia.org/wiki/Euclidean_distance) between vectors of players' characteristics (described in the task above). Put their names in a vector in ascending order by Euclidean distance and sorted by `player_name` if the distance is the same<br>\n",
        "**Note 1:** There are many records for some players in the `Player_Attributes` table. You need to take the freshest data (characteristics with the most recent `date`). <br>\n",
        "**Note 2:** Use pure values of the characteristics even if you are aware of such preprocessing technics as normalization. <br>\n",
        "**Note 3:** Please avoid using any built-in methods for calculating the Euclidean distance between vectors, think about implementing your own."
      ]
    },
    {
      "cell_type": "code",
      "execution_count": 322,
      "id": "fac5a571",
      "metadata": {
        "id": "fac5a571"
      },
      "outputs": [],
      "source": [
        "player_atributes_data['date'] = pd.to_datetime(player_atributes_data['date'])\n",
        "\n",
        "player_atributes_without_duplicates = player_atributes_data.sort_values('date', ascending=False).drop_duplicates('player_api_id')\n",
        "\n",
        "neymar = player_data[player_data['player_name'].str.contains('neymar', case=False)]\n",
        "neymar_id = neymar.iloc[0]['player_api_id']\n",
        "neymar_characteristics = player_atributes_without_duplicates[player_atributes_without_duplicates['player_api_id'] == neymar_id].iloc[0]\n",
        "\n",
        "neymar_characteristics\n",
        "player_atributes_data_without_neymar = player_atributes_without_duplicates[player_atributes_without_duplicates['player_api_id'] != neymar_id]\n",
        "\n",
        "cols=player_characteristics.columns\n",
        "\n",
        "def euclidean_dist(df1):\n",
        "  return np.linalg.norm(df1[cols].values - neymar_characteristics[cols].values)\n",
        "\n",
        "players_names = player_data[['player_api_id', 'player_name']]\n",
        "players_to_compare = players_names.merge(player_atributes_data_without_neymar, on='player_api_id')\n",
        "\n",
        "distance_to_neymar = players_to_compare.apply(euclidean_dist, axis=1).rename('neymar_distance')\n",
        "result = players_to_compare.join(distance_to_neymar).sort_values('neymar_distance')\n",
        "neymar_similarities = result.head(5)['player_name'].to_list()"
      ]
    },
    {
      "cell_type": "code",
      "execution_count": 318,
      "id": "ddb1876a",
      "metadata": {
        "id": "ddb1876a"
      },
      "outputs": [],
      "source": [
        "assert(len(neymar_similarities) == 5)\n",
        "assert(isinstance(neymar_similarities, list))\n",
        "for i in range(5):\n",
        "    assert(isinstance(neymar_similarities[i], str))"
      ]
    },
    {
      "cell_type": "markdown",
      "id": "a3a7f878",
      "metadata": {
        "id": "a3a7f878"
      },
      "source": [
        "**Task 11 (1 point).** Calculate the number of home matches played by the **Borussia Dortmund** team in **Germany 1. Bundesliga** in season **2008/2009**"
      ]
    },
    {
      "cell_type": "code",
      "execution_count": 327,
      "id": "bdf5a267",
      "metadata": {
        "colab": {
          "base_uri": "https://localhost:8080/"
        },
        "id": "bdf5a267",
        "outputId": "b2ab2e8a-d74d-4ede-e228-f9e5a8ccd3d5"
      },
      "outputs": [
        {
          "output_type": "execute_result",
          "data": {
            "text/plain": [
              "17"
            ]
          },
          "metadata": {},
          "execution_count": 327
        }
      ],
      "source": [
        "# match_data['date'] = pd.to_datetime(match_data['date'])\n",
        "\n",
        "borussia_dortmud_id = 9789\n",
        "bundesliga_id = 7809\n",
        "\n",
        "borussia_bundesliga_2008_2009_matches = match_data[(match_data['home_team_api_id'] == borussia_dortmud_id) & (match_data['season'] == '2008/2009') & (match_data['league_id'] == bundesliga_id)].shape[0]\n",
        "\n",
        "borussia_bundesliga_2008_2009_matches"
      ]
    },
    {
      "cell_type": "code",
      "execution_count": null,
      "id": "488fdd4c",
      "metadata": {
        "id": "488fdd4c"
      },
      "outputs": [],
      "source": [
        "# assert(isinstance(borussia_bundesliga_2008_2009_matches, int))"
      ]
    },
    {
      "cell_type": "markdown",
      "id": "69dca9a5",
      "metadata": {
        "id": "69dca9a5"
      },
      "source": [
        "**Task 12 (1 point).** Find a team having the most matches (both home and away!) in the **Germany 1. Bundesliga** in **2008/2009** season. Return number of matches."
      ]
    },
    {
      "cell_type": "code",
      "execution_count": null,
      "id": "9969ba5c",
      "metadata": {
        "id": "9969ba5c"
      },
      "outputs": [],
      "source": [
        "team_most_matches_bundesliga_2008_2009 = 1"
      ]
    },
    {
      "cell_type": "code",
      "execution_count": null,
      "id": "ef3b8fa2",
      "metadata": {
        "id": "ef3b8fa2"
      },
      "outputs": [],
      "source": [
        "# assert(isinstance(team_most_matches_bundesliga_2008_2009, int))"
      ]
    },
    {
      "cell_type": "markdown",
      "id": "2f3c65aa",
      "metadata": {
        "id": "2f3c65aa"
      },
      "source": [
        "**Task 13 (1 point).** Count total number of **Arsenal** matches (both home and away!) in the **2015/2016** season which they have won. <br><br>\n",
        "**Note:** Winning a game means scoring **more** goals than an opponent."
      ]
    },
    {
      "cell_type": "code",
      "execution_count": null,
      "id": "52456f34",
      "metadata": {
        "id": "52456f34"
      },
      "outputs": [],
      "source": [
        "arsenal_won_matches_2015_2016 = 1"
      ]
    },
    {
      "cell_type": "code",
      "execution_count": null,
      "id": "214d9689",
      "metadata": {
        "id": "214d9689"
      },
      "outputs": [],
      "source": [
        "# assert(isinstance(arsenal_won_matches_2015_2016, int))"
      ]
    },
    {
      "cell_type": "markdown",
      "id": "d70d5b23",
      "metadata": {
        "id": "d70d5b23"
      },
      "source": [
        "**Task 14 (2 points).** Find a team with the highest win rate in the **2015/2016** season. Win rate means won matches / all matches. If there are several teams with the highest win rate return the first by name in lexical order"
      ]
    },
    {
      "cell_type": "code",
      "execution_count": null,
      "id": "b1aa7db0",
      "metadata": {
        "id": "b1aa7db0"
      },
      "outputs": [],
      "source": [
        "team_highest_winrate_2015_2016 = 1"
      ]
    },
    {
      "cell_type": "code",
      "execution_count": null,
      "id": "b4cc8e46",
      "metadata": {
        "id": "b4cc8e46"
      },
      "outputs": [],
      "source": [
        "# assert(isinstance(team_highest_winrate_2015_2016, str))"
      ]
    },
    {
      "cell_type": "markdown",
      "id": "f7f3b4f5",
      "metadata": {
        "id": "f7f3b4f5"
      },
      "source": [
        "**Task 15 (2 points).** Determine the team with the maximum days' gap between matches in **England Premier League 2010/2011 season**. Return number of days in that gap. <br>\n",
        "**Note**: a *gap* means the number of days between two consecutive matches of the same team."
      ]
    },
    {
      "cell_type": "code",
      "execution_count": null,
      "id": "a4c33e5f",
      "metadata": {
        "id": "a4c33e5f"
      },
      "outputs": [],
      "source": [
        "highest_gap_england_2010_2011 = 1"
      ]
    },
    {
      "cell_type": "code",
      "execution_count": null,
      "id": "5f7aa84e",
      "metadata": {
        "id": "5f7aa84e"
      },
      "outputs": [],
      "source": [
        "# assert(isinstance(highest_gap_england_2010_2011, int))"
      ]
    },
    {
      "cell_type": "markdown",
      "id": "acecc77f",
      "metadata": {
        "id": "acecc77f"
      },
      "source": [
        "### Warning! Do not change anything in the area below"
      ]
    },
    {
      "cell_type": "code",
      "execution_count": null,
      "id": "94c3b9be",
      "metadata": {
        "id": "94c3b9be"
      },
      "outputs": [],
      "source": [
        "with open('student_answers.txt', 'w') as file:\n",
        "    file.write(f\"{players_180_190}\\n\")\n",
        "    file.write(f\"{players_1980}\\n\")\n",
        "    file.write(f\"{highest_players}\\n\")\n",
        "    file.write(f\"{years_born_players}\\n\")\n",
        "    file.write(f\"{round(adriano_mean, 3)} {round(adriano_std, 3)}\\n\")\n",
        "    file.write(f\"{dow_with_min_players_born}\\n\")\n",
        "    file.write(f\"{league_most_matches}\\n\")\n",
        "    file.write(f\"{max_matches_player}\\n\")\n",
        "    file.write(f\"{';'.join(['%s,%s' % tup for tup in top_correlated_features])};\\n\")\n",
        "    file.write(f\"{neymar_similarities}\\n\")\n",
        "    file.write(f\"{borussia_bundesliga_2008_2009_matches}\\n\")\n",
        "    file.write(f\"{team_most_matches_bundesliga_2008_2009}\\n\")\n",
        "    file.write(f\"{arsenal_won_matches_2015_2016}\\n\")\n",
        "    file.write(f\"{team_highest_winrate_2015_2016}\\n\")\n",
        "    file.write(f\"{highest_gap_england_2010_2011}\\n\")"
      ]
    }
  ],
  "metadata": {
    "kernelspec": {
      "display_name": "Python 3 (ipykernel)",
      "language": "python",
      "name": "python3"
    },
    "language_info": {
      "codemirror_mode": {
        "name": "ipython",
        "version": 3
      },
      "file_extension": ".py",
      "mimetype": "text/x-python",
      "name": "python",
      "nbconvert_exporter": "python",
      "pygments_lexer": "ipython3",
      "version": "3.8.12"
    },
    "colab": {
      "name": "Pandas_data_manipulations_tasks.ipynb",
      "provenance": [],
      "include_colab_link": true
    }
  },
  "nbformat": 4,
  "nbformat_minor": 5
}