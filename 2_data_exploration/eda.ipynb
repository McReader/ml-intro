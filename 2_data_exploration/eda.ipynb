{
  "cells": [
    {
      "cell_type": "markdown",
      "metadata": {
        "id": "view-in-github",
        "colab_type": "text"
      },
      "source": [
        "<a href=\"https://colab.research.google.com/github/McReader/ml-intro/blob/2_data_exploration/2_data_exploration/eda.ipynb\" target=\"_parent\"><img src=\"https://colab.research.google.com/assets/colab-badge.svg\" alt=\"Open In Colab\"/></a>"
      ]
    },
    {
      "cell_type": "markdown",
      "source": [
        "The goal of this notebook is to provide some insights into the general dataset statistics and to explore what variables influenced Titanic's passenger survival "
      ],
      "metadata": {
        "id": "Tla78JRinFFO"
      },
      "id": "Tla78JRinFFO"
    },
    {
      "cell_type": "markdown",
      "id": "d07912a0",
      "metadata": {
        "id": "d07912a0"
      },
      "source": [
        "# Context"
      ]
    },
    {
      "cell_type": "code",
      "execution_count": 18,
      "id": "6b981d68",
      "metadata": {
        "id": "6b981d68",
        "outputId": "9eae0ef7-a548-4c04-b85d-710dc84cf2d2",
        "colab": {
          "base_uri": "https://localhost:8080/",
          "height": 206
        }
      },
      "outputs": [
        {
          "output_type": "execute_result",
          "data": {
            "text/html": [
              "\n",
              "  <div id=\"df-23b985c8-eb55-4573-b7a2-b47099d094f7\">\n",
              "    <div class=\"colab-df-container\">\n",
              "      <div>\n",
              "<style scoped>\n",
              "    .dataframe tbody tr th:only-of-type {\n",
              "        vertical-align: middle;\n",
              "    }\n",
              "\n",
              "    .dataframe tbody tr th {\n",
              "        vertical-align: top;\n",
              "    }\n",
              "\n",
              "    .dataframe thead th {\n",
              "        text-align: right;\n",
              "    }\n",
              "</style>\n",
              "<table border=\"1\" class=\"dataframe\">\n",
              "  <thead>\n",
              "    <tr style=\"text-align: right;\">\n",
              "      <th></th>\n",
              "      <th>PassengerId</th>\n",
              "      <th>Survived</th>\n",
              "      <th>Pclass</th>\n",
              "      <th>Name</th>\n",
              "      <th>Sex</th>\n",
              "      <th>Age</th>\n",
              "      <th>SibSp</th>\n",
              "      <th>Parch</th>\n",
              "      <th>Ticket</th>\n",
              "      <th>Fare</th>\n",
              "      <th>Cabin</th>\n",
              "      <th>Embarked</th>\n",
              "    </tr>\n",
              "  </thead>\n",
              "  <tbody>\n",
              "    <tr>\n",
              "      <th>0</th>\n",
              "      <td>0</td>\n",
              "      <td>1</td>\n",
              "      <td>1</td>\n",
              "      <td>Oconnor, Frankie</td>\n",
              "      <td>male</td>\n",
              "      <td>NaN</td>\n",
              "      <td>2</td>\n",
              "      <td>0</td>\n",
              "      <td>209245</td>\n",
              "      <td>27.14</td>\n",
              "      <td>C12239</td>\n",
              "      <td>S</td>\n",
              "    </tr>\n",
              "    <tr>\n",
              "      <th>1</th>\n",
              "      <td>1</td>\n",
              "      <td>0</td>\n",
              "      <td>3</td>\n",
              "      <td>Bryan, Drew</td>\n",
              "      <td>male</td>\n",
              "      <td>NaN</td>\n",
              "      <td>0</td>\n",
              "      <td>0</td>\n",
              "      <td>27323</td>\n",
              "      <td>13.35</td>\n",
              "      <td>NaN</td>\n",
              "      <td>S</td>\n",
              "    </tr>\n",
              "    <tr>\n",
              "      <th>2</th>\n",
              "      <td>2</td>\n",
              "      <td>0</td>\n",
              "      <td>3</td>\n",
              "      <td>Owens, Kenneth</td>\n",
              "      <td>male</td>\n",
              "      <td>0.33</td>\n",
              "      <td>1</td>\n",
              "      <td>2</td>\n",
              "      <td>CA 457703</td>\n",
              "      <td>71.29</td>\n",
              "      <td>NaN</td>\n",
              "      <td>S</td>\n",
              "    </tr>\n",
              "    <tr>\n",
              "      <th>3</th>\n",
              "      <td>3</td>\n",
              "      <td>0</td>\n",
              "      <td>3</td>\n",
              "      <td>Kramer, James</td>\n",
              "      <td>male</td>\n",
              "      <td>19.00</td>\n",
              "      <td>0</td>\n",
              "      <td>0</td>\n",
              "      <td>A. 10866</td>\n",
              "      <td>13.04</td>\n",
              "      <td>NaN</td>\n",
              "      <td>S</td>\n",
              "    </tr>\n",
              "    <tr>\n",
              "      <th>4</th>\n",
              "      <td>4</td>\n",
              "      <td>1</td>\n",
              "      <td>3</td>\n",
              "      <td>Bond, Michael</td>\n",
              "      <td>male</td>\n",
              "      <td>25.00</td>\n",
              "      <td>0</td>\n",
              "      <td>0</td>\n",
              "      <td>427635</td>\n",
              "      <td>7.76</td>\n",
              "      <td>NaN</td>\n",
              "      <td>S</td>\n",
              "    </tr>\n",
              "  </tbody>\n",
              "</table>\n",
              "</div>\n",
              "      <button class=\"colab-df-convert\" onclick=\"convertToInteractive('df-23b985c8-eb55-4573-b7a2-b47099d094f7')\"\n",
              "              title=\"Convert this dataframe to an interactive table.\"\n",
              "              style=\"display:none;\">\n",
              "        \n",
              "  <svg xmlns=\"http://www.w3.org/2000/svg\" height=\"24px\"viewBox=\"0 0 24 24\"\n",
              "       width=\"24px\">\n",
              "    <path d=\"M0 0h24v24H0V0z\" fill=\"none\"/>\n",
              "    <path d=\"M18.56 5.44l.94 2.06.94-2.06 2.06-.94-2.06-.94-.94-2.06-.94 2.06-2.06.94zm-11 1L8.5 8.5l.94-2.06 2.06-.94-2.06-.94L8.5 2.5l-.94 2.06-2.06.94zm10 10l.94 2.06.94-2.06 2.06-.94-2.06-.94-.94-2.06-.94 2.06-2.06.94z\"/><path d=\"M17.41 7.96l-1.37-1.37c-.4-.4-.92-.59-1.43-.59-.52 0-1.04.2-1.43.59L10.3 9.45l-7.72 7.72c-.78.78-.78 2.05 0 2.83L4 21.41c.39.39.9.59 1.41.59.51 0 1.02-.2 1.41-.59l7.78-7.78 2.81-2.81c.8-.78.8-2.07 0-2.86zM5.41 20L4 18.59l7.72-7.72 1.47 1.35L5.41 20z\"/>\n",
              "  </svg>\n",
              "      </button>\n",
              "      \n",
              "  <style>\n",
              "    .colab-df-container {\n",
              "      display:flex;\n",
              "      flex-wrap:wrap;\n",
              "      gap: 12px;\n",
              "    }\n",
              "\n",
              "    .colab-df-convert {\n",
              "      background-color: #E8F0FE;\n",
              "      border: none;\n",
              "      border-radius: 50%;\n",
              "      cursor: pointer;\n",
              "      display: none;\n",
              "      fill: #1967D2;\n",
              "      height: 32px;\n",
              "      padding: 0 0 0 0;\n",
              "      width: 32px;\n",
              "    }\n",
              "\n",
              "    .colab-df-convert:hover {\n",
              "      background-color: #E2EBFA;\n",
              "      box-shadow: 0px 1px 2px rgba(60, 64, 67, 0.3), 0px 1px 3px 1px rgba(60, 64, 67, 0.15);\n",
              "      fill: #174EA6;\n",
              "    }\n",
              "\n",
              "    [theme=dark] .colab-df-convert {\n",
              "      background-color: #3B4455;\n",
              "      fill: #D2E3FC;\n",
              "    }\n",
              "\n",
              "    [theme=dark] .colab-df-convert:hover {\n",
              "      background-color: #434B5C;\n",
              "      box-shadow: 0px 1px 3px 1px rgba(0, 0, 0, 0.15);\n",
              "      filter: drop-shadow(0px 1px 2px rgba(0, 0, 0, 0.3));\n",
              "      fill: #FFFFFF;\n",
              "    }\n",
              "  </style>\n",
              "\n",
              "      <script>\n",
              "        const buttonEl =\n",
              "          document.querySelector('#df-23b985c8-eb55-4573-b7a2-b47099d094f7 button.colab-df-convert');\n",
              "        buttonEl.style.display =\n",
              "          google.colab.kernel.accessAllowed ? 'block' : 'none';\n",
              "\n",
              "        async function convertToInteractive(key) {\n",
              "          const element = document.querySelector('#df-23b985c8-eb55-4573-b7a2-b47099d094f7');\n",
              "          const dataTable =\n",
              "            await google.colab.kernel.invokeFunction('convertToInteractive',\n",
              "                                                     [key], {});\n",
              "          if (!dataTable) return;\n",
              "\n",
              "          const docLinkHtml = 'Like what you see? Visit the ' +\n",
              "            '<a target=\"_blank\" href=https://colab.research.google.com/notebooks/data_table.ipynb>data table notebook</a>'\n",
              "            + ' to learn more about interactive tables.';\n",
              "          element.innerHTML = '';\n",
              "          dataTable['output_type'] = 'display_data';\n",
              "          await google.colab.output.renderOutput(dataTable, element);\n",
              "          const docLink = document.createElement('div');\n",
              "          docLink.innerHTML = docLinkHtml;\n",
              "          element.appendChild(docLink);\n",
              "        }\n",
              "      </script>\n",
              "    </div>\n",
              "  </div>\n",
              "  "
            ],
            "text/plain": [
              "   PassengerId  Survived  Pclass              Name   Sex    Age  SibSp  Parch  \\\n",
              "0            0         1       1  Oconnor, Frankie  male    NaN      2      0   \n",
              "1            1         0       3       Bryan, Drew  male    NaN      0      0   \n",
              "2            2         0       3    Owens, Kenneth  male   0.33      1      2   \n",
              "3            3         0       3     Kramer, James  male  19.00      0      0   \n",
              "4            4         1       3     Bond, Michael  male  25.00      0      0   \n",
              "\n",
              "      Ticket   Fare   Cabin Embarked  \n",
              "0     209245  27.14  C12239        S  \n",
              "1      27323  13.35     NaN        S  \n",
              "2  CA 457703  71.29     NaN        S  \n",
              "3   A. 10866  13.04     NaN        S  \n",
              "4     427635   7.76     NaN        S  "
            ]
          },
          "metadata": {},
          "execution_count": 18
        }
      ],
      "source": [
        "import pandas as pd\n",
        "import numpy as np\n",
        "\n",
        "train_data = pd.read_csv('train.csv')\n",
        "train_data.head()"
      ]
    },
    {
      "cell_type": "markdown",
      "source": [
        "There are following variables represented in this dataframe:\n",
        "* **survival** - Survival, where values are *0 = No, 1 = Yes*\n",
        "* **pclass** - Ticket class, where values are *1 = 1st, 2 = 2nd, 3 = 3rd*\n",
        "* **sex** - Sex\t\n",
        "* **Age** - Age in years\t\n",
        "* **sibsp** - # of siblings/spouses aboard the Titanic\t\n",
        "* **parch**\t- # of parents/children aboard the Titanic\t\n",
        "* **ticket** - Ticket number\t\n",
        "* **fare** - Passenger fare\t\n",
        "* **cabin** - Cabin number\t\n",
        "* **embarked** - Port of Embarkation, where values are *C = Cherbourg, Q = Queenstown, S = Southampton*\n",
        "\n",
        "\n"
      ],
      "metadata": {
        "id": "0sGztg-QnrKR"
      },
      "id": "0sGztg-QnrKR"
    },
    {
      "cell_type": "markdown",
      "id": "9b4320c6",
      "metadata": {
        "id": "9b4320c6"
      },
      "source": [
        "# Data quality assessment"
      ]
    },
    {
      "cell_type": "markdown",
      "source": [
        "## Nulls and data types"
      ],
      "metadata": {
        "id": "g_9zYV8MphzA"
      },
      "id": "g_9zYV8MphzA"
    },
    {
      "cell_type": "code",
      "source": [
        "train_data.info()"
      ],
      "metadata": {
        "id": "jaC8wjtOkCNB",
        "outputId": "d2598bed-567a-4463-fbac-a94aacdc5cd2",
        "colab": {
          "base_uri": "https://localhost:8080/"
        }
      },
      "id": "jaC8wjtOkCNB",
      "execution_count": 19,
      "outputs": [
        {
          "output_type": "stream",
          "name": "stdout",
          "text": [
            "<class 'pandas.core.frame.DataFrame'>\n",
            "RangeIndex: 100000 entries, 0 to 99999\n",
            "Data columns (total 12 columns):\n",
            " #   Column       Non-Null Count   Dtype  \n",
            "---  ------       --------------   -----  \n",
            " 0   PassengerId  100000 non-null  int64  \n",
            " 1   Survived     100000 non-null  int64  \n",
            " 2   Pclass       100000 non-null  int64  \n",
            " 3   Name         100000 non-null  object \n",
            " 4   Sex          100000 non-null  object \n",
            " 5   Age          96708 non-null   float64\n",
            " 6   SibSp        100000 non-null  int64  \n",
            " 7   Parch        100000 non-null  int64  \n",
            " 8   Ticket       95377 non-null   object \n",
            " 9   Fare         99866 non-null   float64\n",
            " 10  Cabin        32134 non-null   object \n",
            " 11  Embarked     99750 non-null   object \n",
            "dtypes: float64(2), int64(5), object(5)\n",
            "memory usage: 9.2+ MB\n"
          ]
        }
      ]
    },
    {
      "cell_type": "markdown",
      "source": [
        "Data types looks correct, but we need to drop the observations with null values\n",
        "\n",
        "Let's drop the rows with where the following variables have *null* values:\n",
        "1.   Age\n",
        "2.   Ticket\n",
        "3.   Fare\n",
        "\n",
        "I don't drop the rows where **Cabin** and **Embarked** columns are *null* intentionally as we don't want to loose the pretty big part of dataset for the exploration. \n",
        "\n",
        "For the exploration where these columns matter we'll create a separate dataframe where all the *null*s are dropped"
      ],
      "metadata": {
        "id": "xEvrClWUpsaQ"
      },
      "id": "xEvrClWUpsaQ"
    },
    {
      "cell_type": "code",
      "source": [
        "titanic_data = train_data.dropna(subset=['Age', 'Ticket', 'Fare'])\n",
        "pd.isna(titanic_data).sum()"
      ],
      "metadata": {
        "id": "sqNdWah3j0G4",
        "outputId": "d40d0d70-11ac-4a1f-a825-b4b5c7151668",
        "colab": {
          "base_uri": "https://localhost:8080/"
        }
      },
      "id": "sqNdWah3j0G4",
      "execution_count": 20,
      "outputs": [
        {
          "output_type": "execute_result",
          "data": {
            "text/plain": [
              "PassengerId        0\n",
              "Survived           0\n",
              "Pclass             0\n",
              "Name               0\n",
              "Sex                0\n",
              "Age                0\n",
              "SibSp              0\n",
              "Parch              0\n",
              "Ticket             0\n",
              "Fare               0\n",
              "Cabin          61149\n",
              "Embarked         238\n",
              "dtype: int64"
            ]
          },
          "metadata": {},
          "execution_count": 20
        }
      ]
    },
    {
      "cell_type": "markdown",
      "source": [
        "## Duplicates"
      ],
      "metadata": {
        "id": "lMYlQoYEw0AX"
      },
      "id": "lMYlQoYEw0AX"
    },
    {
      "cell_type": "markdown",
      "source": [
        "Let's count how many items are with the duplicated ticket number and drop them as well"
      ],
      "metadata": {
        "id": "WcE2Qz0ixcWL"
      },
      "id": "WcE2Qz0ixcWL"
    },
    {
      "cell_type": "code",
      "source": [
        "titanic_data = titanic_data.drop_duplicates(subset=\"Ticket\")\n",
        "len(train_data)-len(titanic_data)"
      ],
      "metadata": {
        "id": "PMp0ZIdbv7NW",
        "outputId": "21edbeac-b079-4fc5-a69b-fec7bf712b19",
        "colab": {
          "base_uri": "https://localhost:8080/"
        }
      },
      "id": "PMp0ZIdbv7NW",
      "execution_count": 21,
      "outputs": [
        {
          "output_type": "execute_result",
          "data": {
            "text/plain": [
              "26823"
            ]
          },
          "metadata": {},
          "execution_count": 21
        }
      ]
    },
    {
      "cell_type": "markdown",
      "source": [
        "As a result we have the following picture"
      ],
      "metadata": {
        "id": "TC6ByWZAzSwh"
      },
      "id": "TC6ByWZAzSwh"
    },
    {
      "cell_type": "code",
      "source": [
        "titanic_data.info()"
      ],
      "metadata": {
        "id": "F2Qq4ozlzKx9",
        "outputId": "d9d81b91-dfb8-45ab-cb85-5a2061308d9f",
        "colab": {
          "base_uri": "https://localhost:8080/"
        }
      },
      "id": "F2Qq4ozlzKx9",
      "execution_count": 22,
      "outputs": [
        {
          "output_type": "stream",
          "name": "stdout",
          "text": [
            "<class 'pandas.core.frame.DataFrame'>\n",
            "Int64Index: 73177 entries, 2 to 99999\n",
            "Data columns (total 12 columns):\n",
            " #   Column       Non-Null Count  Dtype  \n",
            "---  ------       --------------  -----  \n",
            " 0   PassengerId  73177 non-null  int64  \n",
            " 1   Survived     73177 non-null  int64  \n",
            " 2   Pclass       73177 non-null  int64  \n",
            " 3   Name         73177 non-null  object \n",
            " 4   Sex          73177 non-null  object \n",
            " 5   Age          73177 non-null  float64\n",
            " 6   SibSp        73177 non-null  int64  \n",
            " 7   Parch        73177 non-null  int64  \n",
            " 8   Ticket       73177 non-null  object \n",
            " 9   Fare         73177 non-null  float64\n",
            " 10  Cabin        25080 non-null  object \n",
            " 11  Embarked     72995 non-null  object \n",
            "dtypes: float64(2), int64(5), object(5)\n",
            "memory usage: 7.3+ MB\n"
          ]
        }
      ]
    },
    {
      "cell_type": "markdown",
      "id": "5408eca5",
      "metadata": {
        "id": "5408eca5"
      },
      "source": [
        "# Data exploration"
      ]
    },
    {
      "cell_type": "code",
      "source": [
        "titanic_data[['Pclass', 'Age', 'Fare']].describe()"
      ],
      "metadata": {
        "id": "hkhEi9ncGBes",
        "outputId": "2cd5c72a-730b-4eb8-c5d0-353f15b651b0",
        "colab": {
          "base_uri": "https://localhost:8080/",
          "height": 300
        }
      },
      "id": "hkhEi9ncGBes",
      "execution_count": 34,
      "outputs": [
        {
          "output_type": "execute_result",
          "data": {
            "text/html": [
              "\n",
              "  <div id=\"df-4245c4ac-8a7f-4ffb-818e-9b682e3d6cfc\">\n",
              "    <div class=\"colab-df-container\">\n",
              "      <div>\n",
              "<style scoped>\n",
              "    .dataframe tbody tr th:only-of-type {\n",
              "        vertical-align: middle;\n",
              "    }\n",
              "\n",
              "    .dataframe tbody tr th {\n",
              "        vertical-align: top;\n",
              "    }\n",
              "\n",
              "    .dataframe thead th {\n",
              "        text-align: right;\n",
              "    }\n",
              "</style>\n",
              "<table border=\"1\" class=\"dataframe\">\n",
              "  <thead>\n",
              "    <tr style=\"text-align: right;\">\n",
              "      <th></th>\n",
              "      <th>Pclass</th>\n",
              "      <th>Age</th>\n",
              "      <th>Fare</th>\n",
              "    </tr>\n",
              "  </thead>\n",
              "  <tbody>\n",
              "    <tr>\n",
              "      <th>count</th>\n",
              "      <td>73177.000000</td>\n",
              "      <td>73177.000000</td>\n",
              "      <td>73177.000000</td>\n",
              "    </tr>\n",
              "    <tr>\n",
              "      <th>mean</th>\n",
              "      <td>2.063640</td>\n",
              "      <td>38.457528</td>\n",
              "      <td>46.167749</td>\n",
              "    </tr>\n",
              "    <tr>\n",
              "      <th>std</th>\n",
              "      <td>0.841704</td>\n",
              "      <td>18.273161</td>\n",
              "      <td>71.745904</td>\n",
              "    </tr>\n",
              "    <tr>\n",
              "      <th>min</th>\n",
              "      <td>1.000000</td>\n",
              "      <td>0.080000</td>\n",
              "      <td>0.990000</td>\n",
              "    </tr>\n",
              "    <tr>\n",
              "      <th>25%</th>\n",
              "      <td>1.000000</td>\n",
              "      <td>25.000000</td>\n",
              "      <td>10.270000</td>\n",
              "    </tr>\n",
              "    <tr>\n",
              "      <th>50%</th>\n",
              "      <td>2.000000</td>\n",
              "      <td>39.000000</td>\n",
              "      <td>25.320000</td>\n",
              "    </tr>\n",
              "    <tr>\n",
              "      <th>75%</th>\n",
              "      <td>3.000000</td>\n",
              "      <td>53.000000</td>\n",
              "      <td>35.090000</td>\n",
              "    </tr>\n",
              "    <tr>\n",
              "      <th>max</th>\n",
              "      <td>3.000000</td>\n",
              "      <td>86.000000</td>\n",
              "      <td>744.660000</td>\n",
              "    </tr>\n",
              "  </tbody>\n",
              "</table>\n",
              "</div>\n",
              "      <button class=\"colab-df-convert\" onclick=\"convertToInteractive('df-4245c4ac-8a7f-4ffb-818e-9b682e3d6cfc')\"\n",
              "              title=\"Convert this dataframe to an interactive table.\"\n",
              "              style=\"display:none;\">\n",
              "        \n",
              "  <svg xmlns=\"http://www.w3.org/2000/svg\" height=\"24px\"viewBox=\"0 0 24 24\"\n",
              "       width=\"24px\">\n",
              "    <path d=\"M0 0h24v24H0V0z\" fill=\"none\"/>\n",
              "    <path d=\"M18.56 5.44l.94 2.06.94-2.06 2.06-.94-2.06-.94-.94-2.06-.94 2.06-2.06.94zm-11 1L8.5 8.5l.94-2.06 2.06-.94-2.06-.94L8.5 2.5l-.94 2.06-2.06.94zm10 10l.94 2.06.94-2.06 2.06-.94-2.06-.94-.94-2.06-.94 2.06-2.06.94z\"/><path d=\"M17.41 7.96l-1.37-1.37c-.4-.4-.92-.59-1.43-.59-.52 0-1.04.2-1.43.59L10.3 9.45l-7.72 7.72c-.78.78-.78 2.05 0 2.83L4 21.41c.39.39.9.59 1.41.59.51 0 1.02-.2 1.41-.59l7.78-7.78 2.81-2.81c.8-.78.8-2.07 0-2.86zM5.41 20L4 18.59l7.72-7.72 1.47 1.35L5.41 20z\"/>\n",
              "  </svg>\n",
              "      </button>\n",
              "      \n",
              "  <style>\n",
              "    .colab-df-container {\n",
              "      display:flex;\n",
              "      flex-wrap:wrap;\n",
              "      gap: 12px;\n",
              "    }\n",
              "\n",
              "    .colab-df-convert {\n",
              "      background-color: #E8F0FE;\n",
              "      border: none;\n",
              "      border-radius: 50%;\n",
              "      cursor: pointer;\n",
              "      display: none;\n",
              "      fill: #1967D2;\n",
              "      height: 32px;\n",
              "      padding: 0 0 0 0;\n",
              "      width: 32px;\n",
              "    }\n",
              "\n",
              "    .colab-df-convert:hover {\n",
              "      background-color: #E2EBFA;\n",
              "      box-shadow: 0px 1px 2px rgba(60, 64, 67, 0.3), 0px 1px 3px 1px rgba(60, 64, 67, 0.15);\n",
              "      fill: #174EA6;\n",
              "    }\n",
              "\n",
              "    [theme=dark] .colab-df-convert {\n",
              "      background-color: #3B4455;\n",
              "      fill: #D2E3FC;\n",
              "    }\n",
              "\n",
              "    [theme=dark] .colab-df-convert:hover {\n",
              "      background-color: #434B5C;\n",
              "      box-shadow: 0px 1px 3px 1px rgba(0, 0, 0, 0.15);\n",
              "      filter: drop-shadow(0px 1px 2px rgba(0, 0, 0, 0.3));\n",
              "      fill: #FFFFFF;\n",
              "    }\n",
              "  </style>\n",
              "\n",
              "      <script>\n",
              "        const buttonEl =\n",
              "          document.querySelector('#df-4245c4ac-8a7f-4ffb-818e-9b682e3d6cfc button.colab-df-convert');\n",
              "        buttonEl.style.display =\n",
              "          google.colab.kernel.accessAllowed ? 'block' : 'none';\n",
              "\n",
              "        async function convertToInteractive(key) {\n",
              "          const element = document.querySelector('#df-4245c4ac-8a7f-4ffb-818e-9b682e3d6cfc');\n",
              "          const dataTable =\n",
              "            await google.colab.kernel.invokeFunction('convertToInteractive',\n",
              "                                                     [key], {});\n",
              "          if (!dataTable) return;\n",
              "\n",
              "          const docLinkHtml = 'Like what you see? Visit the ' +\n",
              "            '<a target=\"_blank\" href=https://colab.research.google.com/notebooks/data_table.ipynb>data table notebook</a>'\n",
              "            + ' to learn more about interactive tables.';\n",
              "          element.innerHTML = '';\n",
              "          dataTable['output_type'] = 'display_data';\n",
              "          await google.colab.output.renderOutput(dataTable, element);\n",
              "          const docLink = document.createElement('div');\n",
              "          docLink.innerHTML = docLinkHtml;\n",
              "          element.appendChild(docLink);\n",
              "        }\n",
              "      </script>\n",
              "    </div>\n",
              "  </div>\n",
              "  "
            ],
            "text/plain": [
              "             Pclass           Age          Fare\n",
              "count  73177.000000  73177.000000  73177.000000\n",
              "mean       2.063640     38.457528     46.167749\n",
              "std        0.841704     18.273161     71.745904\n",
              "min        1.000000      0.080000      0.990000\n",
              "25%        1.000000     25.000000     10.270000\n",
              "50%        2.000000     39.000000     25.320000\n",
              "75%        3.000000     53.000000     35.090000\n",
              "max        3.000000     86.000000    744.660000"
            ]
          },
          "metadata": {},
          "execution_count": 34
        }
      ]
    },
    {
      "cell_type": "code",
      "execution_count": 35,
      "id": "2417286d",
      "metadata": {
        "id": "2417286d",
        "outputId": "108b1de1-f167-485c-a277-0cb5c6725b9c",
        "colab": {
          "base_uri": "https://localhost:8080/",
          "height": 382
        }
      },
      "outputs": [
        {
          "output_type": "execute_result",
          "data": {
            "text/plain": [
              "<seaborn.axisgrid.FacetGrid at 0x7fd7b6169d50>"
            ]
          },
          "metadata": {},
          "execution_count": 35
        },
        {
          "output_type": "display_data",
          "data": {
            "image/png": "[encoded data removed]",
            "text/plain": [
              "<Figure size 360x360 with 1 Axes>"
            ]
          },
          "metadata": {}
        }
      ],
      "source": [
        "import seaborn as sns\n",
        "sns.set_theme(style=\"whitegrid\")\n",
        "\n",
        "sns.displot(titanic_data, x=\"Age\", kde=True)"
      ]
    },
    {
      "cell_type": "code",
      "source": [
        "sns.displot(titanic_data, x=\"Fare\", bins=[0, 50, 100, 200, 400, 800])"
      ],
      "metadata": {
        "id": "ZwLcGqH4CJ1x",
        "outputId": "3cff86bc-6cb5-4efb-d2d8-989b9f1aaacf",
        "colab": {
          "base_uri": "https://localhost:8080/",
          "height": 382
        }
      },
      "id": "ZwLcGqH4CJ1x",
      "execution_count": 36,
      "outputs": [
        {
          "output_type": "execute_result",
          "data": {
            "text/plain": [
              "<seaborn.axisgrid.FacetGrid at 0x7fd7b5e48d90>"
            ]
          },
          "metadata": {},
          "execution_count": 36
        },
        {
          "output_type": "display_data",
          "data": {
            "image/png": "[encoded data removed]",
            "text/plain": [
              "<Figure size 360x360 with 1 Axes>"
            ]
          },
          "metadata": {}
        }
      ]
    },
    {
      "cell_type": "code",
      "source": [
        "passengers_characteristics = titanic_data.drop('PassengerId', axis=1)\n",
        "\n",
        "correlation = passengers_characteristics.corr(method='pearson')\n",
        "correlation_without_duplicates = correlation.mask(np.tril(np.ones(correlation.shape)).astype(bool))\n",
        "top_correlated_features = correlation_without_duplicates.unstack().sort_values(ascending=False).dropna() # .head().index.to_list()\n",
        "\n",
        "top_correlated_features"
      ],
      "metadata": {
        "id": "PLf9ZfJ2ED4W",
        "outputId": "5b57848e-fb89-480b-ceb6-0830a6791fcf",
        "colab": {
          "base_uri": "https://localhost:8080/"
        }
      },
      "id": "PLf9ZfJ2ED4W",
      "execution_count": 42,
      "outputs": [
        {
          "output_type": "execute_result",
          "data": {
            "text/plain": [
              "Parch   SibSp       0.215943\n",
              "Fare    Survived    0.200797\n",
              "        Age         0.112843\n",
              "Age     Survived    0.109902\n",
              "Fare    SibSp       0.066785\n",
              "        Parch       0.054645\n",
              "Parch   Survived    0.026312\n",
              "SibSp   Survived   -0.004521\n",
              "Parch   Pclass     -0.032663\n",
              "SibSp   Pclass     -0.068011\n",
              "        Age        -0.110257\n",
              "Parch   Age        -0.127815\n",
              "Age     Pclass     -0.266324\n",
              "Pclass  Survived   -0.314372\n",
              "Fare    Pclass     -0.409946\n",
              "dtype: float64"
            ]
          },
          "metadata": {},
          "execution_count": 42
        }
      ]
    },
    {
      "cell_type": "code",
      "source": [
        "sns.scatterplot(data=titanic_data, x=\"Pclass\", y=\"Fare\", hue=\"Survived\")"
      ],
      "metadata": {
        "id": "F3e_sXtRIDOM",
        "outputId": "977bdec1-051f-461b-a113-be26b7b59b51",
        "colab": {
          "base_uri": "https://localhost:8080/",
          "height": 302
        }
      },
      "id": "F3e_sXtRIDOM",
      "execution_count": 40,
      "outputs": [
        {
          "output_type": "execute_result",
          "data": {
            "text/plain": [
              "<matplotlib.axes._subplots.AxesSubplot at 0x7fd7b2987310>"
            ]
          },
          "metadata": {},
          "execution_count": 40
        },
        {
          "output_type": "display_data",
          "data": {
            "image/png": "[encoded data removed]",
            "text/plain": [
              "<Figure size 432x288 with 1 Axes>"
            ]
          },
          "metadata": {}
        }
      ]
    },
    {
      "cell_type": "markdown",
      "id": "034945c8",
      "metadata": {
        "id": "034945c8"
      },
      "source": [
        "# Summary"
      ]
    },
    {
      "cell_type": "code",
      "execution_count": null,
      "id": "72e3fb13",
      "metadata": {
        "id": "72e3fb13"
      },
      "outputs": [],
      "source": [
        ""
      ]
    }
  ],
  "metadata": {
    "kernelspec": {
      "display_name": "Python 3 (ipykernel)",
      "language": "python",
      "name": "python3"
    },
    "language_info": {
      "codemirror_mode": {
        "name": "ipython",
        "version": 3
      },
      "file_extension": ".py",
      "mimetype": "text/x-python",
      "name": "python",
      "nbconvert_exporter": "python",
      "pygments_lexer": "ipython3",
      "version": "3.8.12"
    },
    "toc": {
      "base_numbering": 1,
      "nav_menu": {},
      "number_sections": true,
      "sideBar": true,
      "skip_h1_title": false,
      "title_cell": "Table of Contents",
      "title_sidebar": "Contents",
      "toc_cell": false,
      "toc_position": {},
      "toc_section_display": true,
      "toc_window_display": false
    },
    "colab": {
      "name": "eda.ipynb",
      "provenance": [],
      "include_colab_link": true
    }
  },
  "nbformat": 4,
  "nbformat_minor": 5
}